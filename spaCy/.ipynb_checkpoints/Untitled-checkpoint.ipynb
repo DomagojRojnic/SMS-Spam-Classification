{
 "cells": [
  {
   "cell_type": "markdown",
   "id": "irish-federal",
   "metadata": {},
   "source": [
    "# SMS Spam classification"
   ]
  },
  {
   "cell_type": "markdown",
   "id": "accepted-cologne",
   "metadata": {},
   "source": [
    "Run the following cell to complete data and english language spaCy model load."
   ]
  },
  {
   "cell_type": "code",
   "execution_count": null,
   "id": "sorted-limit",
   "metadata": {},
   "outputs": [],
   "source": [
    "import pandas as pd\n",
    "import spacy\n",
    "import numpy as np\n",
    "\n",
    "data = pd.read_csv(\"spam_data.csv\")\n",
    "\n",
    "nlp = spacy.load(\"en_core_web_lg\")\n",
    "\n",
    "with nlp.disable_pipes():\n",
    "    doc_vectors = np.array([nlp(text).vector for text in data.Message])\n",
    "\n",
    "print(data.head(5))"
   ]
  }
 ],
 "metadata": {
  "kernelspec": {
   "display_name": "Python 3",
   "language": "python",
   "name": "python3"
  },
  "language_info": {
   "codemirror_mode": {
    "name": "ipython",
    "version": 3
   },
   "file_extension": ".py",
   "mimetype": "text/x-python",
   "name": "python",
   "nbconvert_exporter": "python",
   "pygments_lexer": "ipython3",
   "version": "3.8.5"
  }
 },
 "nbformat": 4,
 "nbformat_minor": 5
}
